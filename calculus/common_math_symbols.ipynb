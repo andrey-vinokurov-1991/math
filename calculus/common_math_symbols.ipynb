{
 "cells": [
  {
   "cell_type": "markdown",
   "source": [
    "https://www.math.ucdavis.edu/~anne/WQ2007/mat67-Common_Math_Symbols.pdf <br>\n",
    "Some Common Mathematical Symbols <br>\n",
    "and Abbreviations (with History) <br>\n",
    "Isaiah Lankham, Bruno Nachtergaele, Anne Schilling <br>\n",
    "(January 21, 2007)"
   ],
   "metadata": {
    "collapsed": false
   }
  },
  {
   "cell_type": "markdown",
   "source": [
    "#### ∴\n",
    "(three dots) means “therefore”"
   ],
   "metadata": {
    "collapsed": false
   }
  },
  {
   "cell_type": "markdown",
   "source": [
    "#### ∋\n",
    "(the such that sign) means “under the condition that”. However, it is much more common (and less ambiguous) to just abbreviate “such that” as “s.t.”."
   ],
   "metadata": {
    "collapsed": false
   }
  },
  {
   "cell_type": "markdown",
   "source": [
    "#### ⇒\n",
    "(the implies sign) means “logically implies that”. (E.g., “if it’s raining, then it’s pouring” is equivalent to saying “it’s raining ⇒ it’s pouring.”)"
   ],
   "metadata": {
    "collapsed": false
   }
  },
  {
   "cell_type": "markdown",
   "source": [
    "#### ⇔\n",
    "(the iff sign) means “if and only if” and is used to connect logically equivalent statements. (E.g., “it’s raining iff it’s really humid” means simultaneously that “if it’s raining, then it’s really humid” and that “if it’s really humid, then it’s raining”. In other words, the statement “it’s raining” implies the statement “it’s really humid” and vice versa.)"
   ],
   "metadata": {
    "collapsed": false
   }
  },
  {
   "cell_type": "markdown",
   "source": [
    "#### ∀\n",
    "(the universal quantifier symbol) means “for all”."
   ],
   "metadata": {
    "collapsed": false
   }
  },
  {
   "cell_type": "markdown",
   "source": [
    "#### ∃\n",
    "(the existential quantifier) means “there exists”"
   ],
   "metadata": {
    "collapsed": false
   }
  }
 ],
 "metadata": {
  "kernelspec": {
   "display_name": "Python 3",
   "language": "python",
   "name": "python3"
  },
  "language_info": {
   "codemirror_mode": {
    "name": "ipython",
    "version": 2
   },
   "file_extension": ".py",
   "mimetype": "text/x-python",
   "name": "python",
   "nbconvert_exporter": "python",
   "pygments_lexer": "ipython2",
   "version": "2.7.6"
  }
 },
 "nbformat": 4,
 "nbformat_minor": 0
}
