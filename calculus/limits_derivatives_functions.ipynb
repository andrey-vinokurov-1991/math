{
 "cells": [
  {
   "cell_type": "markdown",
   "source": [
    "https://users.math.msu.edu/users/yanb/320ch4.pdf  <br>\n",
    "Shagnik Das: <br> http://page.mi.fu-berlin.de/shagnik/notes/continuity.pdf <br>\n",
    "https://math.libretexts.org/Under_Construction/Purgatory/Book%3A_Active_Calculus_(Boelkins_et_al.)/01%3A_Understanding_the_Derivative/1.03%3A_The_Derivative_of_a_Function_at_a_Point <br>\n",
    "https://www.cuemath.com/calculus/differentiable/ <br>\n",
    "http://homepages.math.uic.edu/~leon/math180-r07/handouts/Local%20Maxima.pdf <br>\n"
   ],
   "metadata": {
    "collapsed": false
   }
  },
  {
   "cell_type": "markdown",
   "source": [
    "### Limits of Functions and Continuous Functions"
   ],
   "metadata": {
    "collapsed": false
   }
  },
  {
   "cell_type": "markdown",
   "source": [
    "**Sequential Criterion for Functional Limits**\n",
    "Let $f: A \\rightarrow \\mathbf{R}$ and $c$ be a limit point of $A$. Then the following two conditions are equivalent:\n",
    "\n",
    "(i) $\\lim _{x \\rightarrow c} f(x)=L$.\n",
    "\n",
    "(ii) For all sequences $\\left(x_{n}\\right)$ satisfying $x_{n} \\in A, x_{n} \\neq c$ and $\\left(x_{n}\\right) \\rightarrow c$, it follows that the sequence $\\left(f\\left(x_{n}\\right)\\right) \\rightarrow L$"
   ],
   "metadata": {
    "collapsed": false
   }
  },
  {
   "cell_type": "markdown",
   "source": [
    "**Properties of limits for functions**\n",
    "\n",
    "If a functions has a limit at the point, then the limit is unique. <br>\n",
    "Let $f, g: A \\rightarrow \\mathbf{R}$ and $c$ be a limit point of $A$. Assume $\\lim _{x \\rightarrow c} f(x)=L$ and $\\lim _{x \\rightarrow c} g(x)=M$ exist. Then\n",
    "\n",
    "(i) $\\lim _{x \\rightarrow c}[a f(x)+b g(x)]=a L+b M$ for all $a, b \\in \\mathbf{R}$,\n",
    "\n",
    "(ii) $\\lim _{x \\rightarrow c}[f(x) \\cdot g(x)]=L M$\n",
    "\n",
    "(iii) $\\lim _{x \\rightarrow c}[f(x) / g(x)]=L / M$, provided $M \\neq 0$\n",
    "\n",
    "(iv) $\\lim _{x \\rightarrow c}[k \\cdot f(x) ]=L / M$, where k $\\in \\mathbf{R}$"
   ],
   "metadata": {
    "collapsed": false
   }
  },
  {
   "cell_type": "markdown",
   "source": [
    "**Continuous Functions**\n",
    "\n",
    "Let $f: A \\rightarrow \\mathbf{R}$ and $c \\in A$.\n",
    "\n",
    "(i) We say $f$ is continuous at a point $c \\in A$ if, for each $\\epsilon>0$, there exists a $\\delta>0$ such that whenever $|x-c|<\\delta$ and $x \\in A$ it follows that $|f(x)-f(c)|<\\epsilon$.\n",
    "\n",
    "If $f$ is not continuous at $c$ we say $f$ is discontinuous at $c$.\n",
    "\n",
    "(ii) We say $f$ is a continuous function on $A$ if it is continuous at every point in $A$.\n",
    "\n",
    "Note that continuity at $c$ is not defined if $f(c)$ is not defined, i.e., if $c \\notin A$. If $c \\in A$ is an isolated point of $A$, then $f$ is always continuous at $c$ since for some $\\delta>0$ the only point $x$ satisfying $|x-c|<\\delta$ and $x \\in A$ is $x=c$ and hence the condition $|f(x)-f(c)|=0<\\epsilon$ always holds. If $c \\in A$ is a limit point of $A$, then continuity of $f$ at $c$ is simply equivalent to\n",
    "\n",
    "$\n",
    "\\lim _{x \\rightarrow c} f(x)=f(c) .\n",
    "$\n"
   ],
   "metadata": {
    "collapsed": false
   }
  },
  {
   "cell_type": "markdown",
   "source": [
    "**Algebraic Continuity Theorem.**\n",
    "\n",
    "Let $f, g: A \\rightarrow \\mathbf{R}$ be continuous at a point $c \\in A$. Then\n",
    "\n",
    "(i) af $(x)+b g(x)$ is continuous at c for all $a, b \\in \\mathbf{R}$;\n",
    "\n",
    "(ii) $f(x) g(x)$ is continuous at $c$;\n",
    "\n",
    "(iii) $f(x) / g(x)$ is continuous at c, provided the quotient is well defined. "
   ],
   "metadata": {
    "collapsed": false
   }
  },
  {
   "cell_type": "markdown",
   "source": [
    "**Continuous Functions**\n",
    "\n",
    "(i) We say $f$ is continuous at a point $c \\in A$ if, for each $\\epsilon>0$, there exists a $\\delta>0$ such that whenever $|x-c|<\\delta$ and $x \\in A$ it follows that $|f(x)-f(c)|<\\epsilon$.\n",
    "\n",
    "If $f$ is not continuous at $c$ we say $f$ is discontinuous at $c$.\n",
    "\n",
    "(ii) We say $f$ is a continuous function on $A$ if it is continuous at every point in $A$.\n",
    "\n",
    "Note that continuity at $c$ is not defined if $f(c)$ is not defined, i.e., if $c \\notin A$. If $c \\in A$ is an isolated point of $A$, then $f$ is always continuous at $c$ since for some $\\delta>0$ the only point $x$ satisfying $|x-c|<\\delta$ and $x \\in A$ is $x=c$ and hence the condition $|f(x)-f(c)|=0<\\epsilon$ always holds. If $c \\in A$ is a limit point of $A$, then continuity of $f$ at $c$ is simply equivalent to\n",
    "\n",
    "$\\lim _{x \\rightarrow c} f(x)=f(c)$.\n"
   ],
   "metadata": {
    "collapsed": false
   }
  },
  {
   "cell_type": "markdown",
   "source": [
    "**Characterizations of Continuity**\n",
    "\n",
    "Let $f: A \\rightarrow \\mathbf{R}$ and $c \\in A$ be a limit point of $A$. Then the following conditions are equivalent:\n",
    "\n",
    "(i) $f$ is continuous at c.\n",
    "\n",
    "(ii) $\\lim _{x \\rightarrow c} f(x)=f(c)$.\n",
    "\n",
    "(iii) $\\forall \\epsilon>0 \\exists \\delta>0, \\quad f\\left(V_{\\delta}(c) \\cap A\\right) \\subseteq V_{\\epsilon}(f(c))$.\n",
    "\n",
    "(iv) Whenever $x_{n} \\in A$ and $\\left(x_{n}\\right) \\rightarrow c$ it follows that $\\left(f\\left(x_{n}\\right)\\right) \\rightarrow f(c)$."
   ],
   "metadata": {
    "collapsed": false
   }
  },
  {
   "cell_type": "markdown",
   "source": [
    "**Algebraic Continuity Theorem**\n",
    "\n",
    "Let $f, g: A \\rightarrow \\mathbf{R}$ be continuous at a point $c \\in A$. Then\n",
    "\n",
    "(i) af $(x)+b g(x)$ is continuous at c for all $a, b \\in \\mathbf{R}$;\n",
    "\n",
    "(ii) $f(x) g(x)$ is continuous at $c$;\n",
    "\n",
    "(iii) $f(x) / g(x)$ is continuous at c, provided the quotient is well defined."
   ],
   "metadata": {
    "collapsed": false
   }
  },
  {
   "cell_type": "markdown",
   "source": [
    "### Derivative"
   ],
   "metadata": {
    "collapsed": false
   }
  },
  {
   "cell_type": "markdown",
   "source": [
    "**Derivative Definition**\n",
    "\n",
    "Let $f$ be a function and $x = a$ a value in the function's domain. We define the derivative of $f$ with respect to $x$ evaluated at $x = a$, denoted $f'(a)$, by the formula <br>\n",
    "$f'(a)= \\lim _{h \\rightarrow 0} \\frac{f(a+h) - f(a)}{h}$"
   ],
   "metadata": {
    "collapsed": false
   }
  },
  {
   "cell_type": "markdown",
   "source": [
    "**Differentiability Definition**\n",
    "\n",
    "A function is said to be differentiable if the derivative of the function exists at all points in its domain. Particularly, if a function $f(x)$ is differentiable at $x = a$, then $f′(a)$ exists in the domain."
   ],
   "metadata": {
    "collapsed": false
   }
  },
  {
   "cell_type": "markdown",
   "source": [
    "**The table of derivatives**\n",
    "\n",
    "$y = f(x) \\to \\frac{dy}{dx} = f'(x)$\n",
    "$c'=0$, where $c \\in \\mathbf{R}$\n",
    "$(x^n)' = nx^{n-1}$, where $n \\in \\mathbf{R}$\n",
    "$(\\log_a x)\\ = \\frac{1}{x \\ln a}$, $(\\ln x)'=\\frac{1}{x}$\n",
    "$(\\sin x)' = \\cos x$\n",
    "$(\\cos x)' = -\\sin x$\n",
    "$(\\tan x)' = \\frac{1}{\\cos^2 x}$\n",
    "$(\\cot x)' = -\\frac{1}{\\sin^2 x}$"
   ],
   "metadata": {
    "collapsed": false
   }
  },
  {
   "cell_type": "markdown",
   "source": [
    "**Properties of the Derivative**\n",
    "Let $G$ be an open subset of $\\mathbf{R}$ and let $f$, $g$ : $G \\to \\mathbf{R}$. Suppose both $f$ and $g$ are differentiable at $a \\in G$. Then the following hold.\n",
    "a. The function $f+g$ is differnetiable at $a$ and\n",
    "$(f+g)′(a)=f′(a)+g′(a)$.\n",
    "b. For a constant $c$, the function $cf$ is differentiable at $a$ and\n",
    "$(cf)′(a)=cf′(a)$.\n",
    "c. The function $fg$ is differentiable at $a$ and\n",
    "$(fg)′(a)=f′(a)g(a)+f(a)g′(a)$.\n",
    "d. Suppose additionally that $g(a) \\neq 0$. Then the function $\\frac{f}{g}$ is differentiable at a and\n",
    "$\\bigg(\\frac{f}{g}\\bigg)'(a)=\\frac{f'(a)g(a) - f(a)g'(a)}{(g(a))^2}$."
   ],
   "metadata": {
    "collapsed": false
   }
  },
  {
   "cell_type": "markdown",
   "source": [
    "**Chain Rule**\n",
    "Let $f:G_1 \\to \\mathbf{R}$ and let $g:G_2 \\to \\mathbf{R}$, where $G_1$ and $G_2$ are two open subsets or $\\mathbf{R}$ with $f(G_1) \\subset G_2$. Suppose $f$ is differenetiable at $a$ and $g$ is differentiable at $f(a)$. Then the function $g \\circ f$ is differentiable at $a$ and\n",
    "$(g \\circ f)'(a) = g'(f(a))f'(a)$."
   ],
   "metadata": {
    "collapsed": false
   }
  },
  {
   "cell_type": "markdown",
   "source": [
    "**Local Maxima, Local Minima, and Inflection Points**"
   ],
   "metadata": {
    "collapsed": false
   }
  }
 ],
 "metadata": {
  "kernelspec": {
   "display_name": "Python 3",
   "language": "python",
   "name": "python3"
  },
  "language_info": {
   "codemirror_mode": {
    "name": "ipython",
    "version": 2
   },
   "file_extension": ".py",
   "mimetype": "text/x-python",
   "name": "python",
   "nbconvert_exporter": "python",
   "pygments_lexer": "ipython2",
   "version": "2.7.6"
  }
 },
 "nbformat": 4,
 "nbformat_minor": 0
}
