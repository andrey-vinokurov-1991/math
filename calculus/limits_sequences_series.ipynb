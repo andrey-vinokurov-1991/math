{
 "cells": [
  {
   "cell_type": "markdown",
   "source": [
    "Professor: Padraic Bartlett <br>\n",
    "UCSB 2015 <br>\n",
    "Lecture 1:Limits, Sequences and Series <br>\n",
    "https://web.math.ucsb.edu/~padraic/ucsb_2014_15/math_gre_w2015/math_gre_w2015_lecture1.pdf <br>\n"
   ],
   "metadata": {
    "collapsed": false
   }
  },
  {
   "cell_type": "markdown",
   "source": [
    "###  Sequences"
   ],
   "metadata": {
    "collapsed": false
   }
  },
  {
   "cell_type": "markdown",
   "source": [
    "**Definition**. A **sequence** of real numbers is a collection of real numbers $\\left\\{a_{n}\\right\\}_{n=1}^{\\infty}$ indexed by the natural numbers."
   ],
   "metadata": {
    "collapsed": false
   }
  },
  {
   "cell_type": "markdown",
   "source": [
    "**Definition**. A sequence $\\left\\{a_{n}\\right\\}_{n=1}^{\\infty}$ is called bounded if there is some value $B \\in \\mathbb{R}$ such that $\\left|a_{n}\\right|<B$, for every $n \\in \\mathbb{N}$. Similarly, we say that a sequence is **bounded above** if there is some value $U$ such that $a_{n} \\leq U, \\forall n$, and say that a sequence is **bounded below** if there is some value $L$ such that $a_{n} \\geq L, \\forall n$."
   ],
   "metadata": {
    "collapsed": false
   }
  },
  {
   "cell_type": "markdown",
   "source": [
    "**Definition**. A sequence $\\left\\{a_{n}\\right\\}_{n=1}^{\\infty}$ is said to be **monotonically increasing** if $a_{n} \\leq a_{n+1}$, for every $n \\in \\mathbb{N}$; conversely, a sequence is called **monotonically decreasing** if $a_{n} \\geq a_{n+1}$, for every $n \\in \\mathbb{N}$."
   ],
   "metadata": {
    "collapsed": false
   }
  },
  {
   "cell_type": "markdown",
   "source": [
    "**Definition**. A sequence $\\left\\{a_{n}\\right\\}_{n=1}^{\\infty}$ converges to some value $\\lambda$ if the $a_{n}$'s \"go to $\\lambda$ \" at infinity. To put it more formally, $\\lim _{n \\rightarrow \\infty} a_{n}=\\lambda$ iff for any distance $\\epsilon$, there is some cutoff point $N$ such that for any $n$ greater than this cutoff point, $a_{n}$ must be within $\\epsilon$ of our limit $\\lambda$.\n",
    "\n",
    "In symbols:\n",
    "\n",
    "$\n",
    "\\lim _{n \\rightarrow \\infty} a_{n}=\\lambda \\text { iff }(\\forall \\epsilon)(\\exists N)(\\forall n>N)\\left|a_{n}-\\lambda\\right|<\\epsilon .\n",
    "$"
   ],
   "metadata": {
    "collapsed": false
   }
  },
  {
   "cell_type": "markdown",
   "source": [
    "**Arithmetic and sequences**\n",
    "**Additivity** of sequences: if $\\lim _{n \\rightarrow \\infty} a_{n}$, $\\lim _{n \\rightarrow \\infty} b_{n}$ both exist, then $\\lim _{n \\rightarrow \\infty} a_{n}+ b_{n}=\\left(\\lim _{n \\rightarrow \\infty} a_{n}\\right)+\\left(\\lim _{n \\rightarrow \\infty} b_{n}\\right)$.  <br>\n",
    "\n",
    "**Multiplicativity** of sequences: if $\\lim _{n \\rightarrow \\infty} a_{n}$, $\\lim _{n \\rightarrow \\infty} b_{n}$ both exist, then $\\lim _{n \\rightarrow \\infty} a_{n} b_{n}= \\left(\\lim _{n \\rightarrow \\infty} a_{n}\\right) \\cdot\\left(\\lim _{n \\rightarrow \\infty} b_{n}\\right)$.  <br>\n",
    "\n",
    "**Quotients** of sequences: if $\\lim _{n \\rightarrow \\infty} a_{n}$, $\\lim _{n \\rightarrow \\infty} b_{n}$ both exist, and $b_{n} \\neq 0$ for all $n$, then $\\lim _{n \\rightarrow \\infty} \\frac{a_{n}}{b_{n}}=\\left(\\lim _{n \\rightarrow \\infty} a_{n}\\right) /\\left(\\lim _{n \\rightarrow \\infty} b_{n}\\right)$.  <br>\n"
   ],
   "metadata": {
    "collapsed": false
   }
  },
  {
   "cell_type": "markdown",
   "source": [
    "**Sequences continuing to infinity**\n",
    "\\\n",
    "$\n",
    "x_{n}  \\rightarrow  + \\infty \\ or \\  \\lim_{n \\rightarrow \\infty} x_{n} = + \\infty\n",
    "$\n",
    "$\n",
    "x_{n}  \\rightarrow  + \\infty  \\Leftrightarrow \\forall C \\in \\mathbb{R}\\ \\exists N \\in \\mathbb{N} \\ \\forall n  \\geq N : x_{n} > C\n",
    "$\n",
    "$\n",
    "x_{n}  \\rightarrow  - \\infty \\ or \\  \\lim_{n \\rightarrow \\infty} x_{n} = - \\infty\n",
    "$\n",
    "$\n",
    " x_{n}  \\rightarrow  - \\infty  \\Leftrightarrow \\forall C \\in \\mathbb{R}\\ \\exists N \\in \\mathbb{N} \\ \\forall n  \\geq N : x_{n} < C\n",
    "$"
   ],
   "metadata": {
    "collapsed": false
   }
  },
  {
   "cell_type": "markdown",
   "source": [
    "**Infinitesimal sequences**\n",
    "\\\n",
    "Sequence $x_{n}$ is called infinitesimal if its limit is 0.\n",
    "\\\n",
    "If $a$ is a limit of $\\left\\{x_{n}\\right\\}$, it can be represented as $\\left\\{a + \\alpha_{n}\\right\\}$, where $\\left\\{\\alpha_{n}\\right\\}$ is a infinitesimal sequence.\n",
    "\\\n",
    "Suppose $\\left\\{\\alpha_{n}\\right\\}$, $\\left\\{\\beta_{n}\\right\\}$ are infinitesimal sequences, $c \\in \\mathbb{R}$, so $\\left\\{c \\cdot \\alpha_{n}\\right\\}$, $\\left\\{\\alpha_{n} + \\beta_{n}\\right\\}$ and $\\left\\{\\alpha_{n} \\cdot \\beta_{n}\\right\\}$\n"
   ],
   "metadata": {
    "collapsed": false
   }
  }
 ],
 "metadata": {
  "kernelspec": {
   "display_name": "Python 3",
   "language": "python",
   "name": "python3"
  },
  "language_info": {
   "codemirror_mode": {
    "name": "ipython",
    "version": 2
   },
   "file_extension": ".py",
   "mimetype": "text/x-python",
   "name": "python",
   "nbconvert_exporter": "python",
   "pygments_lexer": "ipython2",
   "version": "2.7.6"
  }
 },
 "nbformat": 4,
 "nbformat_minor": 0
}
