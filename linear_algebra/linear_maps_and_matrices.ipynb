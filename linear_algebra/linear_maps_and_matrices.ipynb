{
 "cells": [
  {
   "cell_type": "markdown",
   "metadata": {},
   "source": [
    "https://www.math.toronto.edu/gscott/WhatVS.pdf  \n",
    "\n",
    "### Vector Space  \n",
    "A vector is the ordered set of real numbers. In Machine Learning objects are often replaced to feature vectors of the objects.  \n",
    "$\\mathbb{R}^{n}$ is the set of ordered sets $\\left(x_{1}, x_{2}, \\ldots, x_{n}\\right)$ such as $\\forall i: x_{i} \\in \\mathbb{R}$. The set $\\mathbb{R}^{n}$ is called $a\\ Vector\\ Space$.  \n",
    "\n",
    "**Convention.**  \n",
    "We will denote such vector as a leter with an arrow and all its coordinates as letters with indexes. \n",
    "$\\vec{x}=\\left(x_{1}, x_{2}, \\ldots, x_{n}\\right)$.  \n",
    "Sometimes it is better to represent some vectors not as row $\\vec{y}=\\left(y_{1}, \\ldots, y_{m}\\right)$, but as a column:  \n",
    "$\\vec{y}=\\left(\\begin{array}{c}\n",
    "y_{1} \\\\\n",
    "y_{2} \\\\\n",
    "\\vdots \\\\\n",
    "y_{m}\n",
    "\\end{array}\\right)$  \n",
    "\n",
    "**Vector Addition in $\\mathbb{R}^{\\mathbf{n}}$.**  \n",
    "It is possible to add any two vectors in one Vector Space $\\mathbb{R}^{\\mathbf{n}}$. The result of the addition is another vector in $\\mathbb{R}^{\\mathbf{n}}$. The sum of vectors $\\left(x_{1}, x_{2}, \\ldots, x_{n}\\right),\\left(y_{1}, y_{2}, \\ldots, y_{n}\\right) \\in$ $\\mathbb{R}^{n}$ is:  \n",
    "$\n",
    "\\left(x_{1}, x_{2}, \\ldots, x_{n}\\right)+\\left(y_{1}, y_{2}, \\ldots, y_{n}\\right)=\\left(x_{1}+y_{1}, x_{2}+y_{2}, \\ldots, x_{n}+y_{n}\\right) \\in \\mathbb{R}^{n}.\n",
    "$  \n",
    "\n",
    "**Scalar Multiplication.**  \n",
    "Scalar Multiplication is defined in $\\mathbb{R}^{n}$. Any vector in $\\mathbb{R}^{n}$ can be multiply to any number and the result of multiplication is another vector in $\\mathbb{R}^{n}$. The number is called as Scalar. The multiplication of vector $\\left(x_{1}, x_{2}, \\ldots, x_{n}\\right) \\in \\mathbb{R}^{n}$ to a number $c \\in \\mathbb{R}$ is defined as:  \n",
    "$\n",
    "c\\left(x_{1}, x_{2}, \\ldots, x_{n}\\right)=\\left(c x_{1}, c x_{2}, \\ldots, c x_{n}\\right) \\in \\mathbb{R}^{n}.\n",
    "$\n",
    "\n",
    "\n"
   ]
  },
  {
   "cell_type": "markdown",
   "metadata": {},
   "source": [
    "### Linear Maps\n",
    "*The Linear Map* of the Vector Space $V$ to the Vector Space $W$ is called the function $f: V \\rightarrow W$ satisfied the follwoing conditions:  \n",
    "1. $f(\\vec{x})+f(\\vec{y})=f(\\vec{x}+\\vec{y})$ for any $\\vec{x}, \\vec{y} \\in V$,  \n",
    "2. $f(c \\vec{x})=c f(\\vec{x})$ for any $\\vec{x} \\in V$ and any number $c \\in \\mathbb{R}.$  \n",
    "\n",
    "**The common view of some Linear Maps.**  \n",
    "1. Any Linear Map $f: \\mathbb{R} \\rightarrow \\mathbb{R}$ is defined by one number $f(1)$: that is $f(\\vec{x})=x \\cdot f(1)$.  \n",
    "2. Any Linear Map $f: \\mathbb{R} \\rightarrow \\mathbb{R}^{m}$ is defined by a column with height $m$ consisting of numbers. This column is equal to $f(1)$. Then $f(\\vec{x})=x \\cdot f(1)$.  \n",
    "3. Any Linear Map $f: \\mathbb{R}^{n} \\rightarrow \\mathbb{R}$ is defined by row with length $n$ consisting of numbers. \n"
   ]
  }
 ],
 "metadata": {
  "kernelspec": {
   "display_name": "venv_math",
   "language": "python",
   "name": "python3"
  },
  "language_info": {
   "codemirror_mode": {
    "name": "ipython",
    "version": 3
   },
   "file_extension": ".py",
   "mimetype": "text/x-python",
   "name": "python",
   "nbconvert_exporter": "python",
   "pygments_lexer": "ipython3",
   "version": "3.10.12"
  },
  "orig_nbformat": 4
 },
 "nbformat": 4,
 "nbformat_minor": 2
}
