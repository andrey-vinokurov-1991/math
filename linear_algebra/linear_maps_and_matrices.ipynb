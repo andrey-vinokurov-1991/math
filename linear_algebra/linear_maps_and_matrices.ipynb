{
 "cells": [
  {
   "cell_type": "markdown",
   "metadata": {},
   "source": [
    "### Vector Space  \n",
    "A vector is the ordered set of real numbers. In Machine Learning objects are often replaced to feature vectors of the objects.  \n",
    "$\\mathbb{R}^{n}$ is the set of ordered sets $\\left(x_{1}, x_{2}, \\ldots, x_{n}\\right)$ such as $\\forall i: x_{i} \\in \\mathbb{R}$. The set $\\mathbb{R}^{n}$ is called $a\\ Vector\\ Space$.  \n",
    "**Convention.**  \n",
    "We will denote such vector as a leter with an arrow and all its coordinates as letters with indexes. \n",
    "$\\vec{x}=\\left(x_{1}, x_{2}, \\ldots, x_{n}\\right)$.  \n",
    "Sometimes it is better to represent some vectors not as row $\\vec{y}=\\left(y_{1}, \\ldots, y_{m}\\right)$, but as a column:  \n",
    "$\\vec{y}=\\left(\\begin{array}{c}\n",
    "y_{1} \\\\\n",
    "y_{2} \\\\\n",
    "\\vdots \\\\\n",
    "y_{m}\n",
    "\\end{array}\\right)$\n",
    "\n",
    "\n",
    "\n"
   ]
  }
 ],
 "metadata": {
  "kernelspec": {
   "display_name": "venv_math",
   "language": "python",
   "name": "python3"
  },
  "language_info": {
   "codemirror_mode": {
    "name": "ipython",
    "version": 3
   },
   "file_extension": ".py",
   "mimetype": "text/x-python",
   "name": "python",
   "nbconvert_exporter": "python",
   "pygments_lexer": "ipython3",
   "version": "3.10.12"
  },
  "orig_nbformat": 4
 },
 "nbformat": 4,
 "nbformat_minor": 2
}
