{
 "cells": [
  {
   "cell_type": "markdown",
   "metadata": {},
   "source": [
    "https://www.math.toronto.edu/gscott/WhatVS.pdf  \n",
    "\n",
    "### Vector Space  \n",
    "A vector is the ordered set of real numbers. In Machine Learning objects are often replaced to feature vectors of the objects.  \n",
    "$\\mathbb{R}^{n}$ is the set of ordered sets $\\left(x_{1}, x_{2}, \\ldots, x_{n}\\right)$ such as $\\forall i: x_{i} \\in \\mathbb{R}$. The set $\\mathbb{R}^{n}$ is called $a\\ Vector\\ Space$.  \n",
    "\n",
    "**Convention.**  \n",
    "We will denote such vector as a leter with an arrow and all its coordinates as letters with indexes. \n",
    "$\\vec{x}=\\left(x_{1}, x_{2}, \\ldots, x_{n}\\right)$.  \n",
    "Sometimes it is better to represent some vectors not as row $\\vec{y}=\\left(y_{1}, \\ldots, y_{m}\\right)$, but as a column:  \n",
    "$\\vec{y}=\\left(\\begin{array}{c}\n",
    "y_{1} \\\\\n",
    "y_{2} \\\\\n",
    "\\vdots \\\\\n",
    "y_{m}\n",
    "\\end{array}\\right)$  \n",
    "\n",
    "**Vector Addition in $\\mathbb{R}^{\\mathbf{n}}$.**  \n",
    "It is possible to add any two vectors in one Vector Space $\\mathbb{R}^{\\mathbf{n}}$. The result of the addition is another vector in $\\mathbb{R}^{\\mathbf{n}}$. The sum of vectors $\\left(x_{1}, x_{2}, \\ldots, x_{n}\\right),\\left(y_{1}, y_{2}, \\ldots, y_{n}\\right) \\in$ $\\mathbb{R}^{n}$ is:  \n",
    "$\n",
    "\\left(x_{1}, x_{2}, \\ldots, x_{n}\\right)+\\left(y_{1}, y_{2}, \\ldots, y_{n}\\right)=\\left(x_{1}+y_{1}, x_{2}+y_{2}, \\ldots, x_{n}+y_{n}\\right) \\in \\mathbb{R}^{n}.\n",
    "$  \n",
    "\n",
    "**Scalar Multiplication.**  \n",
    "Scalar Multiplication is defined in $\\mathbb{R}^{n}$. Any vector in $\\mathbb{R}^{n}$ can be multiply to any number and the result of multiplication is another vector in $\\mathbb{R}^{n}$. The number is called as Scalar. The multiplication of vector $\\left(x_{1}, x_{2}, \\ldots, x_{n}\\right) \\in \\mathbb{R}^{n}$ to a number $c \\in \\mathbb{R}$ is defined as:  \n",
    "$\n",
    "c\\left(x_{1}, x_{2}, \\ldots, x_{n}\\right)=\\left(c x_{1}, c x_{2}, \\ldots, c x_{n}\\right) \\in \\mathbb{R}^{n}.\n",
    "$\n",
    "\n",
    "\n"
   ]
  },
  {
   "cell_type": "markdown",
   "metadata": {},
   "source": [
    "### Linear Maps\n",
    "*The Linear Map* of the Vector Space $V$ to the Vector Space $W$ is called the function $f: V \\rightarrow W$ satisfied the follwoing conditions:  \n",
    "1. $f(\\vec{x})+f(\\vec{y})=f(\\vec{x}+\\vec{y})$ for any $\\vec{x}, \\vec{y} \\in V$,  \n",
    "2. $f(c \\vec{x})=c f(\\vec{x})$ for any $\\vec{x} \\in V$ and any number $c \\in \\mathbb{R}.$  \n",
    "\n",
    "**The common view of some Linear Maps.**  \n",
    "1. Any Linear Map $f: \\mathbb{R} \\rightarrow \\mathbb{R}$ is defined by one number $f(1)$: that is $f(\\vec{x})=x \\cdot f(1)$.  \n",
    "2. Any Linear Map $f: \\mathbb{R} \\rightarrow \\mathbb{R}^{m}$ is defined by a column with height $m$ consisting of numbers. This column is equal to $f(1)$. Then $f(\\vec{x})=x \\cdot f(1)$.  \n",
    "3. Any Linear Map $f: \\mathbb{R}^{n} \\rightarrow \\mathbb{R}$ is defined by row with length $n$ consisting of numbers.  \n",
    "\n",
    "**Designation.**  \n",
    "- $\\vec{e}_{1}:=(1,0,0, \\ldots, 0)$\n",
    "- $\\vec{e}_{2}:=(0,1,0, \\ldots, 0)$\n",
    "- $\\vdots$\n",
    "- $\\vec{e}_{n}:=(0,0,0, \\ldots, 1)$  \n",
    "\n",
    "In other words the $i$-th coordinate of thevector $\\vec{e}_{i}$ is equal to one and all other coordinates are equal zero. Let us consider any vector $\\vec{x}=\\left(x_{1}, \\ldots, x_{n}\\right)$. By definition of the Vector Space $\\mathbb{R}^{n}$, it is done:  \n",
    "$\\left(x_{1}, \\ldots, x_{n}\\right)=\\left(x_{1}, 0, \\ldots, 0\\right)+\\left(0, x_{2}, \\ldots, 0\\right)+\\cdots+\\left(0,0, \\ldots, x_{n}\\right)=x_{1} \\vec{e}_{1}+x_{2} \\vec{e}_{2}+\\cdots+x_{n} \\vec{e}_{n}$.  \n",
    "\n",
    "**Designation.**  \n",
    "In such cases it is suggested that $\\vec{x}$ *is expressed* via vectors $\\vec{e}_{1}, \\ldots, \\vec{e}_{n}.$  \n",
    "Let be the linaer map $f: \\mathbb{R}^{n} \\rightarrow \\mathbb{R}$ and for any $i f\\left(\\vec{e}_{i}\\right)=a_{i}$, where $a_{i} \\in \\mathbb{R}$. Then $f$ is defined by the set of values $a_{1}, \\ldots, a_{n}: f(\\vec{x})=f\\left(x_{1} \\vec{e}_{1}+\\cdots+x_{n} \\vec{e}_{n}\\right)=f\\left(x_{1} \\vec{e}_{1}\\right)+\\cdots+f\\left(x_{n} \\vec{e}_{n}\\right)=x_{1} f\\left(\\vec{e}_{1}\\right)+\\cdots+x_{n} f\\left(\\vec{e}_{n}\\right)=$ $x_{1} a_{1}+\\cdots+x_{n} a_{n}=a_{1} x_{1}+\\cdots+a_{n} x_{n}$.\n",
    "Calculating the value of the function $f$ we are writing as $action$ of the row $\\left(a_{1}, \\ldots, a_{n}\\right)$ to the column $\\vec{x}$ :  \n",
    "$f(\\vec{x})=\\left(a_{1}, \\ldots, a_{n}\\right)\\left(\\begin{array}{c}x_{1} \\\\ x_{2} \\\\ \\vdots \\\\ x_{n}\\end{array}\\right):=a_{1} x_{1}+\\cdots+a_{n} x_{n}=\\sum_{i=1}^{n} a_{i} x_{i}$.\n",
    "We can tell that we *multiply* the row $\\left(a_{1}, \\ldots, a_{n}\\right)$ to the column $\\left(\\begin{array}{c}x_{1} \\\\ x_{2} \\\\ \\vdots \\\\ x_{n}\\end{array}\\right).$\n",
    "\n"
   ]
  },
  {
   "cell_type": "markdown",
   "metadata": {},
   "source": [
    "### Matrices  \n",
    "Any Linear Map $f: \\mathbb{R}^{n} \\rightarrow \\mathbb{R}^{m}$ is represented with $m$ rows and $n$ columns.  \n",
    "$A:=\\left(\\begin{array}{cccc}a_{11} & a_{12} & \\ldots & a_{1 n} \\\\ a_{21} & a_{22} & \\ldots & a_{2 n} \\\\ \\vdots & \\vdots & \\ddots & \\vdots \\\\ a_{m 1} & a_{m 2} & \\ldots & a_{m n}\\end{array}\\right)$,  \n",
    "where $a_{i j} \\in \\mathbb{R}$ for all the $i,j$. Numbers $a_{ij}$ are called the $elements$ of matrices.  \n",
    "\n",
    "**Construct Linear Map using the Matrix A:**  \n",
    "The Linar Map $f_{i}: \\mathbb{R}^{n} \\rightarrow \\mathbb{R}$ corresponds to the $i$-th row of the matrix ( $a_{i 1}, a_{i 2}, \\ldots, a_{i n}$ ):  \n",
    "$f_{i}(\\vec{x})=\\left(a_{i 1}, a_{i 2} \\ldots, a_{i n}\\right)\\left(\\begin{array}{c}x_{1} \\\\ x_{2} \\\\ \\vdots \\\\ x_{n}\\end{array}\\right):=a_{i 1} x_{1}+a_{i 2} x_{2}+\\cdots+a_{i n} x_{n}=\\sum_{j=1}^{n} a_{i j} x_{j} \\in \\mathbb{R}$.  \n",
    "Using maps $f_{1}, \\ldots, f_{m}$, we define the action(?) of map $f$ on the vector $\\vec{x}$ :  \n",
    "$f(\\vec{x})=\\left(\\begin{array}{c}f_{1}(\\vec{x}) \\\\ f_{2}(\\vec{x}) \\\\ \\vdots \\\\ f_{m}(\\vec{x})\\end{array}\\right)=\\left(\\begin{array}{c}\\sum_{j=1}^{n} a_{1 j} x_{j} \\\\ \\sum_{j=1}^{n} a_{2 j} x_{j} \\\\ \\vdots \\\\ \\sum_{j=1}^{n} a_{m j} x_{j}\\end{array}\\right) \\in \\mathbb{R}^{m}$"
   ]
  }
 ],
 "metadata": {
  "kernelspec": {
   "display_name": "venv_math",
   "language": "python",
   "name": "python3"
  },
  "language_info": {
   "codemirror_mode": {
    "name": "ipython",
    "version": 3
   },
   "file_extension": ".py",
   "mimetype": "text/x-python",
   "name": "python",
   "nbconvert_exporter": "python",
   "pygments_lexer": "ipython3",
   "version": "3.10.12"
  },
  "orig_nbformat": 4
 },
 "nbformat": 4,
 "nbformat_minor": 2
}
