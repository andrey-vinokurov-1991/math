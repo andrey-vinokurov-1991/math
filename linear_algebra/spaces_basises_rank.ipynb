{
 "cells": [
  {
   "cell_type": "markdown",
   "metadata": {},
   "source": [
    "### Neural networks\n",
    "\n",
    "![](https://cdn.mathpix.com/cropped/2024_02_29_debaf3ac6da3109caf0dg-2.jpg?height=556&width=1049&top_left_y=348&top_left_x=533)  \n",
    "\n",
    "The circles in the image are the *neurons*. The blue layer is called as the *input* or *zero* layer. The values obtained to the input are called the states of the neurons of the zero layer.  \n",
    "Each *connection* is some transformation (some function) from a number to a number. The layers of the network are numerated from left to right and by state of the neurons of the previous layer. Using these connection we calculate the state of the neurons of the previous layer. In the result, each neuron has some state (a number). The state of the neurons of the last layer is the output of the neural network.  \n",
    "Each neural network is the couple of:\n",
    "1. An architecture - the number of layers, the number of neurons in the each laeyr and the description of connection between the neurons.  \n",
    "2. Weights. Each connection corresponds the function from a number to a number. The architecture defines only the type of these functions. "
   ]
  }
 ],
 "metadata": {
  "language_info": {
   "name": "python"
  }
 },
 "nbformat": 4,
 "nbformat_minor": 2
}
